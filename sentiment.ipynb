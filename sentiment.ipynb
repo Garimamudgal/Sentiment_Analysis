{
 "cells": [
  {
   "cell_type": "code",
   "execution_count": 2,
   "metadata": {
    "scrolled": true
   },
   "outputs": [
    {
     "name": "stdout",
     "output_type": "stream",
     "text": [
      "{\"Comment\":\"This board is really boring, I want to play a smaller board.\"}\n",
      "\n",
      "Detected language is English : en\n",
      "Sentiment(polarity=-0.5, subjectivity=0.75)\n",
      "Negative Sentiment\n",
      "-------------------------------------------------------------\n",
      "{\"Comment\":\"I love playing the game, it is really interesting to solve the 6*10 board.\"}\n",
      "\n",
      "Detected language is English : en\n",
      "Sentiment(polarity=0.19999999999999998, subjectivity=0.5)\n",
      "Positive Sentiment\n",
      "-------------------------------------------------------------\n",
      "{\"Comment\":\"Is it possible to make my own board?\"}\n",
      "\n",
      "Detected language is English : en\n",
      "Sentiment(polarity=0.3, subjectivity=1.0)\n",
      "Positive Sentiment\n",
      "-------------------------------------------------------------\n",
      "{\"Comment\":\"das ist langwilig.\"}\n",
      "\n",
      "Detected language is English : de\n",
      "Sentiment(polarity=-1.0, subjectivity=1.0)\n",
      "Negative Sentiment\n",
      "-------------------------------------------------------------\n",
      "{\"Comment\":\"Das ist wirklich langweilig\"}\n",
      "Detected language is English : de\n",
      "Sentiment(polarity=-1.0, subjectivity=1.0)\n",
      "Negative Sentiment\n",
      "-------------------------------------------------------------\n"
     ]
    }
   ],
   "source": [
    "from textblob import TextBlob\n",
    "\n",
    "#statement=TextBlob('my life is extremely funny')\n",
    "\n",
    "\n",
    "f = open(\"sample.json\", \"r\")\n",
    "for x in f:\n",
    "\tx1=x\n",
    "\tprint(x1)\n",
    "\tprint(\"Detected language is English :\",TextBlob(x1).detect_language())\n",
    "\tif(TextBlob(x1).detect_language()!='en'):\n",
    "\t\tx1=str(TextBlob(x1).translate(to= 'en'))\n",
    "\t\t\n",
    "\t#print(TextBlob(x1).detect_language())\n",
    "\t#print(x1)\n",
    "\tprint(TextBlob(x1).sentiment)\n",
    "\tif(TextBlob(x1).sentiment.polarity>0):\n",
    "\t\tprint('Positive Sentiment')\n",
    "\telif(TextBlob(x1).sentiment.polarity<0):\n",
    "\t\tprint('Negative Sentiment')\n",
    "\telif(TextBlob(x1).sentiment.polarity==0):\n",
    "  \t\tprint('Neutral Sentiment')\n",
    "\tprint(\"-------------------------------------------------------------\")\n",
    "\n",
    "\n",
    "#print(statement.tags)\n",
    "#print(statement.noun_phrases)\n",
    "\n",
    "#print(\"Polarity Values is \"+str(statement.sentiment.polarity))\n"
   ]
  },
  {
   "cell_type": "code",
   "execution_count": null,
   "metadata": {},
   "outputs": [],
   "source": []
  },
  {
   "cell_type": "code",
   "execution_count": null,
   "metadata": {},
   "outputs": [],
   "source": []
  }
 ],
 "metadata": {
  "celltoolbar": "Slideshow",
  "kernelspec": {
   "display_name": "Python 3",
   "language": "python",
   "name": "python3"
  },
  "language_info": {
   "codemirror_mode": {
    "name": "ipython",
    "version": 3
   },
   "file_extension": ".py",
   "mimetype": "text/x-python",
   "name": "python",
   "nbconvert_exporter": "python",
   "pygments_lexer": "ipython3",
   "version": "3.7.0"
  }
 },
 "nbformat": 4,
 "nbformat_minor": 2
}
